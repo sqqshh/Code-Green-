{
 "cells": [
  {
   "cell_type": "code",
   "execution_count": 1,
   "id": "ccdd43e8",
   "metadata": {
    "_cell_guid": "b1076dfc-b9ad-4769-8c92-a6c4dae69d19",
    "_uuid": "8f2839f25d086af736a60e9eeb907d3b93b6e0e5",
    "execution": {
     "iopub.execute_input": "2024-11-05T16:51:39.499332Z",
     "iopub.status.busy": "2024-11-05T16:51:39.498898Z",
     "iopub.status.idle": "2024-11-05T16:51:40.658186Z",
     "shell.execute_reply": "2024-11-05T16:51:40.657065Z"
    },
    "papermill": {
     "duration": 1.16639,
     "end_time": "2024-11-05T16:51:40.661039",
     "exception": false,
     "start_time": "2024-11-05T16:51:39.494649",
     "status": "completed"
    },
    "tags": []
   },
   "outputs": [],
   "source": [
    "# This Python 3 environment comes with many helpful analytics libraries installed\n",
    "# It is defined by the kaggle/python Docker image: https://github.com/kaggle/docker-python\n",
    "# For example, here's several helpful packages to load\n",
    "\n",
    "import numpy as np # linear algebra\n",
    "import pandas as pd # data processing, CSV file I/O (e.g. pd.read_csv)\n",
    "\n",
    "# Input data files are available in the read-only \"../input/\" directory\n",
    "# For example, running this (by clicking run or pressing Shift+Enter) will list all files under the input directory\n",
    "\n",
    "import os\n",
    "\n",
    "\n",
    "# You can write up to 20GB to the current directory (/kaggle/working/) that gets preserved as output when you create a version using \"Save & Run All\" \n",
    "# You can also write temporary files to /kaggle/temp/, but they won't be saved outside of the current session"
   ]
  },
  {
   "cell_type": "code",
   "execution_count": null,
   "id": "269b7fde",
   "metadata": {
    "execution": {
     "iopub.execute_input": "2024-11-05T16:51:40.667775Z",
     "iopub.status.busy": "2024-11-05T16:51:40.667198Z",
     "iopub.status.idle": "2024-11-05T16:56:26.916195Z",
     "shell.execute_reply": "2024-11-05T16:56:26.915018Z"
    },
    "papermill": {
     "duration": 286.255839,
     "end_time": "2024-11-05T16:56:26.919305",
     "exception": false,
     "start_time": "2024-11-05T16:51:40.663466",
     "status": "completed"
    },
    "tags": []
   },
   "outputs": [],
   "source": [
    "import os\n",
    "import shutil\n",
    "import pandas as pd\n",
    "\n",
    "def organize_images_by_category(train_csv_path, images_folder_path, output_base_path):\n",
    "    # Load the CSV file\n",
    "    df = pd.read_csv(train_csv_path)\n",
    "\n",
    "    # Create a dictionary to map categories to folder names\n",
    "    categories = {\n",
    "        \"Women Tops & Tunics\": \"Women_Tops_&_Tunics\",\n",
    "        \"Women Tshirts\": \"Women_Tshirts\",\n",
    "        \"Sarees\": \"Sarees\",\n",
    "        \"Men Tshirts\": \"Men_Tshirts\",\n",
    "        \"Kurtis\": \"Kurtis\"\n",
    "    }\n",
    "\n",
    "    # Create folders for each category in /kaggle/working\n",
    "    for category in categories.values():\n",
    "        folder_path = os.path.join(output_base_path, category)\n",
    "        os.makedirs(folder_path, exist_ok=True)\n",
    "\n",
    "    # Iterate over the rows in the CSV and copy images to corresponding category folders\n",
    "    for _, row in df.iterrows():\n",
    "        image_id = str(row['id']).zfill(6)  # Convert ID to 6-digit string with leading zeros\n",
    "        image_name = f\"{image_id}.jpg\"\n",
    "        category = row['Category']\n",
    "\n",
    "        if category in categories:\n",
    "            # Get the source image path\n",
    "            src_image_path = os.path.join(images_folder_path, image_name)\n",
    "            \n",
    "            # Get the destination folder for the category\n",
    "            dest_folder = os.path.join(output_base_path, categories[category])\n",
    "            \n",
    "            # Get the destination image path\n",
    "            dest_image_path = os.path.join(dest_folder, image_name)\n",
    "\n",
    "            # Copy the image to the destination folder\n",
    "            if os.path.exists(src_image_path):\n",
    "                shutil.copy(src_image_path, dest_image_path)  # Copy instead of move\n",
    "                #print(f\"Copied {image_name} to {categories[category]} folder.\")\n",
    "            else:\n",
    "                print(f\"Image {image_name} not found in {images_folder_path}.\")\n",
    "\n",
    "if __name__ == \"__main__\":\n",
    "    # Path to the CSV file and images folder\n",
    "    train_csv_path = \"/kaggle/input/visual-taxonomy/train.csv\"  # Update with actual path to train.csv\n",
    "    images_folder_path = \"/kaggle/input/visual-taxonomy/train_images\"  # Update with actual path to train_images\n",
    "    output_base_path = \"/kaggle/working/sorted_images\"  # Writable directory\n",
    "\n",
    "    # Organize the images by category\n",
    "    organize_images_by_category(train_csv_path, images_folder_path, output_base_path)"
   ]
  }
 ],
 "metadata": {
  "kaggle": {
   "accelerator": "none",
   "dataSources": [
    {
     "databundleVersionId": 9755748,
     "sourceId": 84705,
     "sourceType": "competition"
    }
   ],
   "isGpuEnabled": false,
   "isInternetEnabled": true,
   "language": "python",
   "sourceType": "notebook"
  },
  "kernelspec": {
   "display_name": "Python 3",
   "language": "python",
   "name": "python3"
  },
  "language_info": {
   "codemirror_mode": {
    "name": "ipython",
    "version": 3
   },
   "file_extension": ".py",
   "mimetype": "text/x-python",
   "name": "python",
   "nbconvert_exporter": "python",
   "pygments_lexer": "ipython3",
   "version": "3.10.14"
  },
  "papermill": {
   "default_parameters": {},
   "duration": 291.337945,
   "end_time": "2024-11-05T16:56:27.443103",
   "environment_variables": {},
   "exception": null,
   "input_path": "__notebook__.ipynb",
   "output_path": "__notebook__.ipynb",
   "parameters": {},
   "start_time": "2024-11-05T16:51:36.105158",
   "version": "2.6.0"
  }
 },
 "nbformat": 4,
 "nbformat_minor": 5
}
